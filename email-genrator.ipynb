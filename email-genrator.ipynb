{
 "cells": [
  {
   "cell_type": "code",
   "execution_count": 1,
   "id": "f9fccf33-2a5b-4efd-87da-33c8240803cc",
   "metadata": {},
   "outputs": [],
   "source": [
    "from langchain_core.prompts import ChatPromptTemplate\n",
    "from langchain_groq import ChatGroq"
   ]
  },
  {
   "cell_type": "code",
   "execution_count": null,
   "id": "321c598e-ffbf-4c6c-87be-910f5d2f911f",
   "metadata": {},
   "outputs": [],
   "source": [
    "chat = ChatGroq(temperature=0, groq_api_key=\"api-key\", model_name=\"llama2-70b-4096\")\n"
   ]
  },
  {
   "cell_type": "code",
   "execution_count": 9,
   "id": "1713417b-5b87-4287-898c-3d9e28c7b00e",
   "metadata": {},
   "outputs": [
    {
     "name": "stdout",
     "output_type": "stream",
     "text": [
      "Golden orb above,\n",
      "Life's warm kiss on our faces,\n",
      "The Sun's gentle love."
     ]
    }
   ],
   "source": [
    "prompt = ChatPromptTemplate.from_messages([(\"human\", \"Write a haiku about {topic}\")])\n",
    "chain = prompt | chat\n",
    "for chunk in chain.stream({\"topic\": \"The Sun\"}):\n",
    "    print(chunk.content, end=\"\", flush=True)"
   ]
  },
  {
   "cell_type": "code",
   "execution_count": 14,
   "id": "26df26ee-62d5-4610-a7c7-a512152660af",
   "metadata": {},
   "outputs": [
    {
     "name": "stderr",
     "output_type": "stream",
     "text": [
      "USER_AGENT environment variable not set, consider setting it to identify your requests.\n"
     ]
    },
    {
     "name": "stdout",
     "output_type": "stream",
     "text": [
      "Apply for Senior Software Engineer, ITC\n",
      "\n",
      "Search JobsSkip navigationSearch JobsNIKE, INC. JOBSContract JobsJoin The Talent CommunityLife @ NikeOverviewBenefitsBrandsOverviewJordanConverseTeamsOverviewAdministrative SupportAdvanced InnovationAir Manufacturing InnovationAviationCommunicationsCustomer ServiceDesignDigitalFacilitiesFinance & AccountingGovernment & Public AffairsHuman ResourcesInsights & AnalyticsLegalManufacturing & EngineeringMarketingMerchandisingPlanningPrivacyProcurementProduct Creation, Development & ManagementRetail CorporateRetail StoresSalesSocial & Community ImpactSports MarketingStrategic PlanningSupply Chain, Distribution & LogisticsSustainabilityTechnologyLocationsOverviewNike WHQNike New York HQEHQ: Hilversum, The NetherlandsELC: Laakdal, BelgiumGreater China HQDiversity, Equity & InclusionOverviewMilitary InclusionDisability InclusionIndigenous InclusionInternshipsTechnologySenior Software Engineer, ITCKarnataka, IndiaBecome a Part of the NIKE, Inc. TeamNIKE, Inc. does more than outfit the world’s best athletes. It is a place to explore potential, obliterate boundaries and push out the edges of what can be. The company looks for people who can grow, think, dream and create. Its culture thrives by embracing diversity and rewarding imagination. The brand seeks achievers, leaders and visionaries. At NIKE, Inc. it’s about each person bringing skills and passion to a challenging and constantly evolving game.NIKE is a technology company. From our flagship website and five-star mobile apps to developing products, managing big data and providing leading edge engineering and systems support, our teams at NIKE Global Technology exist to revolutionize the future at the confluence of tech and sport. We invest and develop advances in technology and employ the most creative people in the world, and then give them the support to constantly innovate, iterate and serve consumers more directly and personally.  Our teams are innovative, diverse, multidisciplinary and collaborative, taking technology into the future and bringing the world with it.WHO YOU’LL WORK WITHYou will be reporting to the Engineering Manager at Marketplace engineering - India Capability Center, who will guide you to grow and build your career path. You will be directly working within a team of dedicated engineers that work on the same solutions. You share your experience and technical expertise such that we improve on the longer-term technical strategic direction.WHAT YOU WILL WORK ONAs a Senior Software Engineer, you will be involved in designing and building secure, highly scalable and innovative services in a continuous delivery model on the Nike cloud platform. This role will partner with leads and architects to deliver web services that are robust, architecturally sound, easilymaintainable and highly scalable for various Nike partner experiences and platform. As a Full Stack Software Engineer, responsibilities includeWorking with your local team and other geo-graphically dispersed engineering teams to provide technical expertise on development and architectureWorking with product owner to understand the requirements, sizing up the work early, coming up with MVP for features and possible timeline goalsCollaborating with other engineering squads to come up with end to end cohesive architecture on new features.Responsible for the full-stack developmentEnsure development best practices are followed (Clean Code, Clean Architecture, code reviews)Work across the full stack, building highly scalable distributed solutions that enable positive user experiences and measurable business growthReview and analyze complex, large-scale technology solutions for tactical and strategic business objectivesBuild for scale and high performance.Mentor and coach junior team members.WHO WE ARE LOOKING FOR5-8 years’ software development experience designing, developing, and testing complex solutions and code in Web technologies such as Java, Scala, Node.js, TyperScript, Serverless AWS.Good experience with at least one frontend framework like ReactJs, VueExperience working in a distributed/cloud-based environment (e.g. Amazon EC2, GCE, Azure, etc.)Prior experience in designing and implementing web servicesExperience in micro service architecture, domain driven design, and RESTful ServicesExperience in Relational and Non-relational databases - MySQL, DynamoDB, Elastic Search etc.Experience with CICD, unit testing, static analysis, and automated integration tests.Working knowledge of Scrum and agile principlesKnowledge of common design patternsExperience with distributed processing of large datasets.Experience with CI/CD and DevSecOps Engineering. Used at least few of the tools like - Jenkins, GitHub, SonarQube, Harness, Prisma etc.Self-starter, comfortable working in a fast-paced, results-oriented environmentCommitment to and hands-on experience in performing technical code reviewsExcellent verbal and written communication and collaboration skills to effectively communicate with both business and technical teamsNice to have: Experience with New Relic, SignalFx, and Splunk,Kafka.Bachelor's degree in Computer Science, Information Systems, Business, or other relevant subject area. 2 years additional relevant professional experience accepted in lieu of degree.NIKE, Inc. is a growth company that looks for team members to grow with it. Nike offers a generous total rewards package, casual work environment, a diverse and inclusive culture, and an electric atmosphere for professional development. No matter the location, or the role, every Nike employee shares one galvanizing mission: To bring inspiration and innovation to every athlete* in the world.NIKE, Inc. is committed to employing a diverse workforce. Qualified applicants will receive consideration without regard to race, color, religion, sex, national origin, age, sexual orientation, gender identity, gender expression, veteran status, or disability.How We HireAt NIKE, Inc. we promise to provide a premium, inclusive, compelling and authentic candidate experience. Delivering on this promise means we allow you to be at your best — and to do that, you need to understand how the hiring process works. Transparency is key.\n",
      "\n",
      "* This overview explains our hiring process for corporate roles. Note there may be different hiring steps involved for non-corporate roles.Start nowBenefitsWhether it’s transportation or financial health, we continually invest in our employees to help them achieve greatness — inside and outside of work. All who work here should be able to realize their full potential.Employee Assistance ProgramHolidaysMedical PlanPaid Time Off (PTO)Product DiscountsLearn moreFIND A STOREBECOME A MEMBERSIGN UP FOR EMAILSEND US FEEDBACKSTUDENT DISCOUNTSGET HELPGET HELPOrder StatusDeliveryReturnsPayment OptionsContact Us On Nike.com InquiriesContact Us On All Other InquiriesABOUT NIKEABOUT NIKENewsCareersInvestorsSustainabilityIndia© 2024 Nike, Inc. All Rights ReservedGuidesNike AdaptNike Air MaxNike FlyleatherNike PegasusNike Zoom FlyNike AirNike FlyEaseNike FreeNike ReactNike ZoomXNike Air Force 1Nike FlyknitNike JoyrideNike VaporflyTerms of SaleTerms of UseNike Privacy Policy\n"
     ]
    }
   ],
   "source": [
    "from langchain_community.document_loaders import WebBaseLoader\n",
    "\n",
    "loader = WebBaseLoader(\"https://jobs.nike.com/job/R-46165?from=job%20search%20funnel\")\n",
    "page_data = loader.load().pop().page_content\n",
    "print(page_data)"
   ]
  },
  {
   "cell_type": "code",
   "execution_count": 24,
   "id": "0bd41321-0ca2-4fab-a1df-5dc19e11d698",
   "metadata": {},
   "outputs": [
    {
     "name": "stdout",
     "output_type": "stream",
     "text": [
      "[\n",
      "    {\n",
      "        \"role\": \"Senior Software Engineer\",\n",
      "        \"experience\": \"5-8 years\",\n",
      "        \"skills\": [\n",
      "            \"Java, Scala, Node.js, TyperScript, Serverless AWS\",\n",
      "            \"ReactJs, Vue\",\n",
      "            \"Amazon EC2, GCE, Azure\",\n",
      "            \"MySQL, DynamoDB, Elastic Search\",\n",
      "            \"Jenkins, GitHub, SonarQube, Harness, Prisma\",\n",
      "            \"New Relic, SignalFx, and Splunk, Kafka\",\n",
      "            \"Scrum and agile principles\",\n",
      "            \"distributed processing of large datasets\",\n",
      "            \"CI/CD and DevSecOps Engineering\"\n",
      "        ],\n",
      "        \"description\": \"Designing and building secure, highly scalable and innovative services in a continuous delivery model on the Nike cloud platform. Partner with leads and architects to deliver web services that are robust, architecturally sound, easily maintainable and highly scalable for various Nike partner experiences and platform. Responsibilities include working with your local team and other geographically dispersed engineering teams to provide technical expertise on development and architecture, working with product owner to understand the requirements, sizing up the work early, coming up with MVP for features and possible timeline goals, collaborating with other engineering squads to come up with end-to-end cohesive architecture on new features, ensuring development best practices are followed, working across the full stack, building highly scalable distributed solutions that enable positive user experiences and measurable business growth, reviewing and analyzing complex, large-scale technology solutions for tactical and strategic business objectives, building for scale and high performance, and mentoring and coaching junior team members.\"\n",
      "    }\n",
      "]\n"
     ]
    }
   ],
   "source": [
    "from langchain_core.prompts import PromptTemplate\n",
    "\n",
    "prompt_extract = PromptTemplate.from_template(\n",
    "        \"\"\"\n",
    "        ### SCRAPED TEXT FROM WEBSITE:\n",
    "        {page_data}\n",
    "        ### INSTRUCTION:\n",
    "        The scraped text is from the career's page of a website.\n",
    "        Your job is to extract the job postings and return them in JSON format containing the \n",
    "        following keys: `role`, `experience`, `skills` and `description`.\n",
    "        Only return the valid JSON.\n",
    "        ### VALID JSON (NO PREAMBLE):    \n",
    "        \"\"\"\n",
    ")\n",
    "\n",
    "chain_extract = prompt_extract | chat \n",
    "res = chain_extract.invoke(input={'page_data':page_data})\n",
    "type(res.content)"
   ]
  },
  {
   "cell_type": "code",
   "execution_count": 25,
   "id": "1208b1ec-c15c-4ef8-aa8a-47beacb01827",
   "metadata": {},
   "outputs": [
    {
     "data": {
      "text/plain": [
       "[{'role': 'Senior Software Engineer',\n",
       "  'experience': '5-8 years',\n",
       "  'skills': ['Java, Scala, Node.js, TyperScript, Serverless AWS',\n",
       "   'ReactJs, Vue',\n",
       "   'Amazon EC2, GCE, Azure',\n",
       "   'MySQL, DynamoDB, Elastic Search',\n",
       "   'Jenkins, GitHub, SonarQube, Harness, Prisma',\n",
       "   'New Relic, SignalFx, and Splunk, Kafka',\n",
       "   'Scrum and agile principles',\n",
       "   'distributed processing of large datasets',\n",
       "   'CI/CD and DevSecOps Engineering'],\n",
       "  'description': 'Designing and building secure, highly scalable and innovative services in a continuous delivery model on the Nike cloud platform. Partner with leads and architects to deliver web services that are robust, architecturally sound, easily maintainable and highly scalable for various Nike partner experiences and platform. Responsibilities include working with your local team and other geographically dispersed engineering teams to provide technical expertise on development and architecture, working with product owner to understand the requirements, sizing up the work early, coming up with MVP for features and possible timeline goals, collaborating with other engineering squads to come up with end-to-end cohesive architecture on new features, ensuring development best practices are followed, working across the full stack, building highly scalable distributed solutions that enable positive user experiences and measurable business growth, reviewing and analyzing complex, large-scale technology solutions for tactical and strategic business objectives, building for scale and high performance, and mentoring and coaching junior team members.'}]"
      ]
     },
     "execution_count": 25,
     "metadata": {},
     "output_type": "execute_result"
    }
   ],
   "source": [
    "from langchain_core.output_parsers import JsonOutputParser\n",
    "\n",
    "json_parser = JsonOutputParser()\n",
    "json_res = json_parser.parse(res.content)\n",
    "json_res"
   ]
  },
  {
   "cell_type": "code",
   "execution_count": 26,
   "id": "14b0b5fd-fd9b-418e-b2ff-f3a0d2acf293",
   "metadata": {},
   "outputs": [
    {
     "data": {
      "text/plain": [
       "list"
      ]
     },
     "execution_count": 26,
     "metadata": {},
     "output_type": "execute_result"
    }
   ],
   "source": [
    "type(json_res)"
   ]
  },
  {
   "cell_type": "code",
   "execution_count": null,
   "id": "2a23b579-265c-44d3-b0fc-9e0540d5043b",
   "metadata": {},
   "outputs": [],
   "source": []
  }
 ],
 "metadata": {
  "kernelspec": {
   "display_name": "Python 3 (ipykernel)",
   "language": "python",
   "name": "python3"
  },
  "language_info": {
   "codemirror_mode": {
    "name": "ipython",
    "version": 3
   },
   "file_extension": ".py",
   "mimetype": "text/x-python",
   "name": "python",
   "nbconvert_exporter": "python",
   "pygments_lexer": "ipython3",
   "version": "3.12.0"
  }
 },
 "nbformat": 4,
 "nbformat_minor": 5
}
